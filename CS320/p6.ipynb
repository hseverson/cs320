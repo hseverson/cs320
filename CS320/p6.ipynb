{
 "cells": [
  {
   "cell_type": "code",
   "execution_count": 1,
   "id": "4a4552a3",
   "metadata": {},
   "outputs": [],
   "source": [
    "# project: p6\n",
    "# submitter: hseverson4\n",
    "# partner: none\n",
    "# hours: 8"
   ]
  },
  {
   "cell_type": "code",
   "execution_count": 2,
   "id": "d1875e31",
   "metadata": {},
   "outputs": [],
   "source": [
    "import geopandas as gpd\n",
    "import sqlite3\n",
    "import pandas as pd\n",
    "from sklearn.linear_model import LinearRegression\n",
    "from sklearn.model_selection import train_test_split, cross_val_score\n",
    "import matplotlib.pyplot as plt\n",
    "from rasterio.mask import mask\n",
    "from matplotlib.colors import ListedColormap\n",
    "from sklearn.preprocessing import PolynomialFeatures\n",
    "from sklearn.pipeline import Pipeline\n",
    "import numpy as np\n",
    "import rasterio"
   ]
  },
  {
   "cell_type": "code",
   "execution_count": 3,
   "id": "bccd8a14",
   "metadata": {},
   "outputs": [
    {
     "data": {
      "text/plain": [
       "72"
      ]
     },
     "execution_count": 3,
     "metadata": {},
     "output_type": "execute_result"
    }
   ],
   "source": [
    "#Q1: How many counties are in Wisconsin?\n",
    "wi_counties = gpd.read_file(\"counties.geojson\")\n",
    "len(wi_counties)"
   ]
  },
  {
   "cell_type": "code",
   "execution_count": 4,
   "id": "6bebc5e0",
   "metadata": {},
   "outputs": [
    {
     "data": {
      "image/png": "[encoded data removed]",
      "text/plain": [
       "<Figure size 432x288 with 2 Axes>"
      ]
     },
     "metadata": {
      "needs_background": "light"
     },
     "output_type": "display_data"
    }
   ],
   "source": [
    "#Q2: What is the population of each county in WI?\n",
    "wi_counties.plot(column=\"POP100\", legend=True) \n",
    "None"
   ]
  },
  {
   "cell_type": "code",
   "execution_count": 5,
   "id": "959017c4",
   "metadata": {},
   "outputs": [],
   "source": [
    "conn = sqlite3.connect(\"counties_tracts.db\")"
   ]
  },
  {
   "cell_type": "code",
   "execution_count": 6,
   "id": "01e63b8e",
   "metadata": {},
   "outputs": [],
   "source": [
    "AREALAND = pd.read_sql(\"\"\"SELECT * FROM counties\"\"\", conn)['AREALAND']\n",
    "wi_counties['AREALAND'] = AREALAND\n",
    "\n",
    "train, test = train_test_split(wi_counties, random_state=320, test_size=0.25)"
   ]
  },
  {
   "cell_type": "code",
   "execution_count": 7,
   "id": "24255674",
   "metadata": {},
   "outputs": [
    {
     "data": {
      "text/plain": [
       "['Kewaunee County',\n",
       " 'Calumet County',\n",
       " 'Adams County',\n",
       " 'Eau Claire County',\n",
       " 'Milwaukee County',\n",
       " 'Ashland County',\n",
       " 'Wood County',\n",
       " 'Dodge County',\n",
       " 'Sauk County',\n",
       " 'Clark County',\n",
       " 'Pepin County',\n",
       " 'Taylor County',\n",
       " 'Iron County',\n",
       " 'Outagamie County',\n",
       " 'Florence County',\n",
       " 'Oneida County',\n",
       " 'Pierce County',\n",
       " 'Grant County']"
      ]
     },
     "execution_count": 7,
     "metadata": {},
     "output_type": "execute_result"
    }
   ],
   "source": [
    "#Q3: What are the counties in the test dataset?\n",
    "list(test['NAME'])"
   ]
  },
  {
   "cell_type": "code",
   "execution_count": 8,
   "id": "5c3713ec",
   "metadata": {},
   "outputs": [
    {
     "data": {
      "text/plain": [
       "0.022002661530554857"
      ]
     },
     "execution_count": 8,
     "metadata": {},
     "output_type": "execute_result"
    }
   ],
   "source": [
    "#Q4: How much variance in the POP100 can a LinearRegression model explain based only on AREALAND?\n",
    "model4 = LinearRegression()\n",
    "model4.fit(train[[\"AREALAND\"]], train[\"POP100\"])\n",
    "model4.score(test[[\"AREALAND\"]], test[\"POP100\"])"
   ]
  },
  {
   "cell_type": "code",
   "execution_count": 9,
   "id": "1b723867",
   "metadata": {},
   "outputs": [
    {
     "data": {
      "text/plain": [
       "82032.53073541154"
      ]
     },
     "execution_count": 9,
     "metadata": {},
     "output_type": "execute_result"
    }
   ],
   "source": [
    "#Q5: What is the predicted population of a county with 500 square miles of area, according to the model?\n",
    "sq_meters = 500 * 2.59 * (1000**2)\n",
    "sq_meters * model4.coef_[0] + model4.intercept_"
   ]
  },
  {
   "cell_type": "code",
   "execution_count": 10,
   "id": "61c52d97",
   "metadata": {},
   "outputs": [
    {
     "data": {
      "text/html": [
       "<div>\n",
       "<style scoped>\n",
       "    .dataframe tbody tr th:only-of-type {\n",
       "        vertical-align: middle;\n",
       "    }\n",
       "\n",
       "    .dataframe tbody tr th {\n",
       "        vertical-align: top;\n",
       "    }\n",
       "\n",
       "    .dataframe thead th {\n",
       "        text-align: right;\n",
       "    }\n",
       "</style>\n",
       "<table border=\"1\" class=\"dataframe\">\n",
       "  <thead>\n",
       "    <tr style=\"text-align: right;\">\n",
       "      <th></th>\n",
       "      <th>index</th>\n",
       "      <th>NAME</th>\n",
       "      <th>COUNTY</th>\n",
       "      <th>HU100</th>\n",
       "    </tr>\n",
       "  </thead>\n",
       "  <tbody>\n",
       "    <tr>\n",
       "      <th>0</th>\n",
       "      <td>0</td>\n",
       "      <td>Census Tract 9701.01</td>\n",
       "      <td>085</td>\n",
       "      <td>2760</td>\n",
       "    </tr>\n",
       "    <tr>\n",
       "      <th>1</th>\n",
       "      <td>1</td>\n",
       "      <td>Census Tract 9710.01</td>\n",
       "      <td>085</td>\n",
       "      <td>1536</td>\n",
       "    </tr>\n",
       "    <tr>\n",
       "      <th>2</th>\n",
       "      <td>2</td>\n",
       "      <td>Census Tract 9706.01</td>\n",
       "      <td>085</td>\n",
       "      <td>1208</td>\n",
       "    </tr>\n",
       "    <tr>\n",
       "      <th>3</th>\n",
       "      <td>3</td>\n",
       "      <td>Census Tract 9706.02</td>\n",
       "      <td>085</td>\n",
       "      <td>3136</td>\n",
       "    </tr>\n",
       "    <tr>\n",
       "      <th>4</th>\n",
       "      <td>4</td>\n",
       "      <td>Census Tract 4301</td>\n",
       "      <td>131</td>\n",
       "      <td>2144</td>\n",
       "    </tr>\n",
       "    <tr>\n",
       "      <th>...</th>\n",
       "      <td>...</td>\n",
       "      <td>...</td>\n",
       "      <td>...</td>\n",
       "      <td>...</td>\n",
       "    </tr>\n",
       "    <tr>\n",
       "      <th>1404</th>\n",
       "      <td>1404</td>\n",
       "      <td>Census Tract 14</td>\n",
       "      <td>059</td>\n",
       "      <td>2913</td>\n",
       "    </tr>\n",
       "    <tr>\n",
       "      <th>1405</th>\n",
       "      <td>1405</td>\n",
       "      <td>Census Tract 15</td>\n",
       "      <td>059</td>\n",
       "      <td>1550</td>\n",
       "    </tr>\n",
       "    <tr>\n",
       "      <th>1406</th>\n",
       "      <td>1406</td>\n",
       "      <td>Census Tract 16</td>\n",
       "      <td>059</td>\n",
       "      <td>1286</td>\n",
       "    </tr>\n",
       "    <tr>\n",
       "      <th>1407</th>\n",
       "      <td>1407</td>\n",
       "      <td>Census Tract 17</td>\n",
       "      <td>059</td>\n",
       "      <td>1068</td>\n",
       "    </tr>\n",
       "    <tr>\n",
       "      <th>1408</th>\n",
       "      <td>1408</td>\n",
       "      <td>Census Tract 18</td>\n",
       "      <td>059</td>\n",
       "      <td>927</td>\n",
       "    </tr>\n",
       "  </tbody>\n",
       "</table>\n",
       "<p>1409 rows × 4 columns</p>\n",
       "</div>"
      ],
      "text/plain": [
       "      index                  NAME COUNTY  HU100\n",
       "0         0  Census Tract 9701.01    085   2760\n",
       "1         1  Census Tract 9710.01    085   1536\n",
       "2         2  Census Tract 9706.01    085   1208\n",
       "3         3  Census Tract 9706.02    085   3136\n",
       "4         4     Census Tract 4301    131   2144\n",
       "...     ...                   ...    ...    ...\n",
       "1404   1404       Census Tract 14    059   2913\n",
       "1405   1405       Census Tract 15    059   1550\n",
       "1406   1406       Census Tract 16    059   1286\n",
       "1407   1407       Census Tract 17    059   1068\n",
       "1408   1408       Census Tract 18    059    927\n",
       "\n",
       "[1409 rows x 4 columns]"
      ]
     },
     "execution_count": 10,
     "metadata": {},
     "output_type": "execute_result"
    }
   ],
   "source": [
    "pd.read_sql(\"\"\"SELECT * FROM tracts\"\"\", conn)"
   ]
  },
  {
   "cell_type": "code",
   "execution_count": 11,
   "id": "0c15cff7",
   "metadata": {},
   "outputs": [],
   "source": [
    "hu100 = pd.read_sql(\"\"\"SELECT *, SUM(HU100) AS hu100 FROM counties\n",
    "            INNER JOIN tracts ON counties.COUNTY = tracts.COUNTY\n",
    "            GROUP BY counties.`index`\"\"\", conn)[\"hu100\"]\n",
    "wi_counties[\"HU100\"] = hu100\n",
    "\n",
    "train, test = train_test_split(wi_counties, random_state=320, test_size=0.25)"
   ]
  },
  {
   "cell_type": "code",
   "execution_count": 12,
   "id": "661d105f",
   "metadata": {},
   "outputs": [
    {
     "data": {
      "text/plain": [
       "['Kewaunee County',\n",
       " 'Calumet County',\n",
       " 'Adams County',\n",
       " 'Eau Claire County',\n",
       " 'Milwaukee County',\n",
       " 'Ashland County',\n",
       " 'Wood County',\n",
       " 'Dodge County',\n",
       " 'Sauk County',\n",
       " 'Clark County',\n",
       " 'Pepin County',\n",
       " 'Taylor County',\n",
       " 'Iron County',\n",
       " 'Outagamie County',\n",
       " 'Florence County',\n",
       " 'Oneida County',\n",
       " 'Pierce County',\n",
       " 'Grant County']"
      ]
     },
     "execution_count": 12,
     "metadata": {},
     "output_type": "execute_result"
    }
   ],
   "source": [
    "#Q6: What are the counties in the test dataset?\n",
    "list(test[\"NAME\"])"
   ]
  },
  {
   "cell_type": "code",
   "execution_count": 13,
   "id": "2deba1fe",
   "metadata": {},
   "outputs": [
    {
     "data": {
      "text/plain": [
       "{'Walworth County': 51531,\n",
       " 'Marquette County': 9896,\n",
       " 'Racine County': 82164,\n",
       " 'Waupaca County': 25396,\n",
       " 'Lincoln County': 16784,\n",
       " 'Washburn County': 12979,\n",
       " 'Door County': 23966,\n",
       " 'Waukesha County': 160864,\n",
       " 'Sheboygan County': 50766,\n",
       " 'La Crosse County': 48402,\n",
       " 'Langlade County': 12360,\n",
       " 'Marathon County': 57734,\n",
       " 'Jefferson County': 35147,\n",
       " 'Price County': 11120,\n",
       " 'Vilas County': 25116,\n",
       " 'Columbia County': 26137,\n",
       " 'Ozaukee County': 36267,\n",
       " 'Fond du Lac County': 43910,\n",
       " 'Crawford County': 8802,\n",
       " 'Lafayette County': 7230,\n",
       " 'Green County': 15856,\n",
       " 'Marinette County': 30379,\n",
       " 'Vernon County': 13720,\n",
       " 'Douglas County': 22825,\n",
       " 'Rock County': 68422,\n",
       " 'Iowa County': 10719,\n",
       " 'Dane County': 216022,\n",
       " 'Bayfield County': 12999,\n",
       " 'Polk County': 24248,\n",
       " 'Trempealeau County': 12619,\n",
       " 'Brown County': 104371,\n",
       " 'Washington County': 54695,\n",
       " 'Chippewa County': 27185,\n",
       " 'Oconto County': 23537,\n",
       " 'Richland County': 8868,\n",
       " 'Portage County': 30054,\n",
       " 'Sawyer County': 15975,\n",
       " 'Menominee County': 2253,\n",
       " 'Barron County': 23614,\n",
       " 'Shawano County': 20720,\n",
       " 'Winnebago County': 73329,\n",
       " 'Rusk County': 8883,\n",
       " 'Manitowoc County': 37189,\n",
       " 'Dunn County': 17964,\n",
       " 'Monroe County': 19204,\n",
       " 'Waushara County': 14843,\n",
       " 'Forest County': 8970,\n",
       " 'Green Lake County': 10616,\n",
       " 'Juneau County': 14669,\n",
       " 'St. Croix County': 33983,\n",
       " 'Buffalo County': 6664,\n",
       " 'Kenosha County': 69288,\n",
       " 'Jackson County': 9727,\n",
       " 'Burnett County': 15278}"
      ]
     },
     "execution_count": 13,
     "metadata": {},
     "output_type": "execute_result"
    }
   ],
   "source": [
    "#Q7: What are the HU100 values for the counties in the train dataset?\n",
    "train[['NAME', 'HU100']].set_index(\"NAME\").to_dict()[\"HU100\"]"
   ]
  },
  {
   "cell_type": "code",
   "execution_count": 14,
   "id": "f28c7fc6",
   "metadata": {},
   "outputs": [
    {
     "data": {
      "text/plain": [
       "0.9652534544116037"
      ]
     },
     "execution_count": 14,
     "metadata": {},
     "output_type": "execute_result"
    }
   ],
   "source": [
    "#Q8: How much variance in the POP100 can a LinearRegression model explain based only on HU100?\n",
    "model8 = LinearRegression()\n",
    "m8_scores = cross_val_score(model8, train[[\"HU100\"]], train[\"POP100\"])\n",
    "m8_scores.mean()"
   ]
  },
  {
   "cell_type": "code",
   "execution_count": 15,
   "id": "a59bdb97",
   "metadata": {},
   "outputs": [
    {
     "data": {
      "text/plain": [
       "0.03704265206670459"
      ]
     },
     "execution_count": 15,
     "metadata": {},
     "output_type": "execute_result"
    }
   ],
   "source": [
    "#Q9: What is the standard deviation of the cross validation scores from Q7?\n",
    "m8_scores.std()"
   ]
  },
  {
   "cell_type": "code",
   "execution_count": 16,
   "id": "8744bbd4",
   "metadata": {},
   "outputs": [
    {
     "data": {
      "text/plain": [
       "'POP100 = 2.39*HU100 + -7910.46'"
      ]
     },
     "execution_count": 16,
     "metadata": {},
     "output_type": "execute_result"
    }
   ],
   "source": [
    "#Q10: What is the formula relating POP100 and HU100?\n",
    "model8.fit(train[[\"HU100\"]], train[\"POP100\"])\n",
    "model8.score(test[[\"HU100\"]], test[\"POP100\"])\n",
    "slope = float(round(model8.coef_[0], 2))\n",
    "intercept = float(round(model8.intercept_, 2))\n",
    "f\"POP100 = {slope}*HU100 + {intercept}\""
   ]
  },
  {
   "cell_type": "code",
   "execution_count": 17,
   "id": "9d2c11f5",
   "metadata": {},
   "outputs": [
    {
     "data": {
      "image/png": "[encoded data removed]",
      "text/plain": [
       "<Figure size 432x288 with 1 Axes>"
      ]
     },
     "metadata": {
      "needs_background": "light"
     },
     "output_type": "display_data"
    }
   ],
   "source": [
    "#Q11: What is the relationship between HU100 and POP100, visually?\n",
    "ax = train.plot.scatter(x=\"HU100\", y=\"POP100\")\n",
    "pts = test.plot.scatter(x=\"HU100\", y=\"POP100\", ax=ax)\n",
    "line = ax.axline((0, intercept), slope=slope, color=\"red\")\n",
    "\n",
    "dane_hu100 = train[train[\"NAME\"]==\"Dane County\"][\"HU100\"].values[0]\n",
    "dane_pop100 = train[train[\"NAME\"]==\"Dane County\"][\"POP100\"].values[0]\n",
    "plt.text(dane_hu100+5000, dane_pop100, \"Dane\", va=\"center\")\n",
    "\n",
    "y = ax.get_ylim()[1] - 100000\n",
    "x = ax.get_xlim()[0] + 20000\n",
    "y_range = ax.get_ylim()[1] - ax.get_ylim()[0]\n",
    "x_range = ax.get_xlim()[1] - ax.get_xlim()[0]\n",
    "\n",
    "plt.plot(x, y, marker=\"o\", markersize=5)\n",
    "plt.plot([x-(x_range/50), x+(x_range/50)], [y-(y_range/15), y-(y_range/15)], color=\"red\")\n",
    "plt.text(x+(x_range/25), y, \"Actual\", va=\"center\")\n",
    "plt.text(x+(x_range/25), y-(y_range/15), \"Predicted\", va=\"center\")\n",
    "None"
   ]
  },
  {
   "cell_type": "code",
   "execution_count": 18,
   "id": "b2a10f6a",
   "metadata": {},
   "outputs": [
    {
     "data": {
      "text/plain": [
       "12"
      ]
     },
     "execution_count": 18,
     "metadata": {},
     "output_type": "execute_result"
    }
   ],
   "source": [
    "#Q12: How many numbers in matrix A are between 2 and 5 (inclusive)?\n",
    "A = np.array([\n",
    "    [0,0,5,8,4],\n",
    "    [1,2,4,0,3],\n",
    "    [2,4,0,9,2],\n",
    "    [3,5,2,1,1],\n",
    "    [0,5,0,1,0]\n",
    "])\n",
    "\n",
    "gt2lt5 = (A >= 2) & (A <= 5)\n",
    "gt2lt5.astype(int).sum()"
   ]
  },
  {
   "cell_type": "code",
   "execution_count": 19,
   "id": "03eb405f",
   "metadata": {},
   "outputs": [
    {
     "data": {
      "image/png": "[encoded data removed]",
      "text/plain": [
       "<Figure size 864x864 with 1 Axes>"
      ]
     },
     "metadata": {
      "needs_background": "light"
     },
     "output_type": "display_data"
    }
   ],
   "source": [
    "#Q13: How does Milwaukee County look?\n",
    "land = rasterio.open(\"zip://../p6/land.zip!wi.tif\")\n",
    "\n",
    "mil = wi_counties[wi_counties[\"NAME\"]==\"Milwaukee County\"]\n",
    "\n",
    "c = np.zeros((256,3))\n",
    "c[0] = [0.00000000000, 0.00000000000, 0.00000000000]\n",
    "c[11] = [0.27843137255, 0.41960784314, 0.62745098039]\n",
    "c[12] = [0.81960784314, 0.86666666667, 0.97647058824]\n",
    "c[21] = [0.86666666667, 0.78823529412, 0.78823529412]\n",
    "c[22] = [0.84705882353, 0.57647058824, 0.50980392157]\n",
    "c[23] = [0.92941176471, 0.00000000000, 0.00000000000]\n",
    "c[24] = [0.66666666667, 0.00000000000, 0.00000000000]\n",
    "c[31] = [0.69803921569, 0.67843137255, 0.63921568628]\n",
    "c[41] = [0.40784313726, 0.66666666667, 0.38823529412]\n",
    "c[42] = [0.10980392157, 0.38823529412, 0.18823529412]\n",
    "c[43] = [0.70980392157, 0.78823529412, 0.55686274510]\n",
    "c[51] = [0.64705882353, 0.54901960784, 0.18823529412]\n",
    "c[52] = [0.80000000000, 0.72941176471, 0.48627450980]\n",
    "c[71] = [0.88627450980, 0.88627450980, 0.75686274510]\n",
    "c[72] = [0.78823529412, 0.78823529412, 0.46666666667]\n",
    "c[73] = [0.60000000000, 0.75686274510, 0.27843137255]\n",
    "c[74] = [0.46666666667, 0.67843137255, 0.57647058824]\n",
    "c[81] = [0.85882352941, 0.84705882353, 0.23921568628]\n",
    "c[82] = [0.66666666667, 0.43921568628, 0.15686274510]\n",
    "c[90] = [0.72941176471, 0.84705882353, 0.91764705882]\n",
    "c[95] = [0.43921568628, 0.63921568628, 0.72941176471]\n",
    "custom_cmap = ListedColormap(c)\n",
    "\n",
    "matrix, _ = mask(land, mil.to_crs(land.crs)[\"geometry\"], crop=True)\n",
    "matrix = matrix[0]\n",
    "\n",
    "fig, ax = plt.subplots(figsize=(12,12))\n",
    "ax.imshow(matrix, vmin=0, vmax=255, cmap = custom_cmap)\n",
    "\n",
    "None"
   ]
  },
  {
   "cell_type": "code",
   "execution_count": 20,
   "id": "fbc574d1",
   "metadata": {},
   "outputs": [
    {
     "data": {
      "text/plain": [
       "0.7963037455950543"
      ]
     },
     "execution_count": 20,
     "metadata": {},
     "output_type": "execute_result"
    }
   ],
   "source": [
    "#Q14: What portion of Milwaukee County is \"Open Water\"?\n",
    "land_use = {\"open_water\": 11,\n",
    "            \"ice_snow\": 12,\n",
    "            \"developed_open\": 21,\n",
    "            \"developed_low\": 22,\n",
    "            \"developed_med\": 23,\n",
    "            \"developed_high\": 24,\n",
    "            \"barren\": 31,\n",
    "            \"deciduous\": 41,\n",
    "            \"evergreen\": 42,\n",
    "            \"mixed_forest\": 43,\n",
    "            \"dwarf_scrub\": 51,\n",
    "            \"shrub_scrub\": 52,\n",
    "            \"grassland\": 71,\n",
    "            \"sedge\": 72,\n",
    "            \"lichens\": 73,\n",
    "            \"moss\": 74,\n",
    "            \"pasture\": 81,\n",
    "            \"crops\": 82,\n",
    "            \"woody_wetlands\": 90,\n",
    "            \"herbacious_wetlands\": 95}\n",
    "\n",
    "o_h2o = land_use[\"open_water\"]\n",
    "open_water = len(matrix[matrix==o_h2o])\n",
    "total = len(matrix[matrix!=0])\n",
    "open_water/total"
   ]
  },
  {
   "cell_type": "code",
   "execution_count": 21,
   "id": "5e104a5b",
   "metadata": {},
   "outputs": [
    {
     "data": {
      "image/png": "[encoded data removed]",
      "text/plain": [
       "<Figure size 432x288 with 1 Axes>"
      ]
     },
     "metadata": {
      "needs_background": "light"
     },
     "output_type": "display_data"
    }
   ],
   "source": [
    "#Q15: What is the Relationship Between POP100 and ________________?\n",
    "x_vals = []\n",
    "y_vals = []\n",
    "\n",
    "counties = wi_counties['NAME']\n",
    "gl = land_use[\"grassland\"]\n",
    "\n",
    "for county in counties:  \n",
    "    c = wi_counties[wi_counties[\"NAME\"]==county]\n",
    "    pop = c['POP100'].values[0]\n",
    "    matrix, _ = mask(land, c.to_crs(land.crs)[\"geometry\"], crop=True)\n",
    "    matrix = matrix[0]\n",
    "    grassland = len(matrix[matrix==gl])\n",
    "    total = len(matrix[matrix!=0])\n",
    "    pct = grassland/total\n",
    "    \n",
    "    x_vals.append(pct)\n",
    "    y_vals.append(pop)\n",
    "\n",
    "plt.scatter(x_vals, y_vals)\n",
    "plt.xlabel(\"Grassland Cells in County\")\n",
    "plt.ylabel(\"Population\")\n",
    "None"
   ]
  },
  {
   "cell_type": "code",
   "execution_count": 22,
   "id": "5e446f91",
   "metadata": {},
   "outputs": [],
   "source": [
    "census_tracts = gpd.read_file(\"tracts.geojson\").to_crs(land.crs)"
   ]
  },
  {
   "cell_type": "code",
   "execution_count": 23,
   "id": "bf4cc106",
   "metadata": {},
   "outputs": [],
   "source": [
    "def add_feature(geometry, feature): #for adding what the portion that is a land type\n",
    "    global land\n",
    "    global land_use\n",
    "    feature_num = land_use[feature]\n",
    "    \n",
    "    matrix, _ = mask(land, geometry[\"geometry\"], crop=True)\n",
    "    matrix = matrix[0]\n",
    "    feature = len(matrix[matrix==feature_num])\n",
    "    total = len(matrix[matrix!=0])\n",
    "    pct = feature/total\n",
    "    \n",
    "    return pct\n",
    "\n",
    "def add_feature2(geometry, feature): #for adding quantity of a land type\n",
    "    global land\n",
    "    global land_use\n",
    "    feature_num = land_use[feature]\n",
    "    \n",
    "    matrix, _ = mask(land, geometry[\"geometry\"], crop=True)\n",
    "    matrix = matrix[0]\n",
    "    feature = len(matrix[matrix==feature_num])\n",
    "    \n",
    "    return feature"
   ]
  },
  {
   "cell_type": "code",
   "execution_count": 24,
   "id": "7da3f384",
   "metadata": {},
   "outputs": [],
   "source": [
    "features_to_add = [\"developed_med\"]\n",
    "\n",
    "for feature in features_to_add:\n",
    "    geo_ids = list(census_tracts[\"GEOID\"])\n",
    "    vals_list = []\n",
    "    for geo_id in geo_ids:\n",
    "        df = census_tracts[census_tracts['GEOID']==geo_id]\n",
    "        #pct = add_feature(df, feature)\n",
    "        total = add_feature2(df, feature)\n",
    "        vals_list.append(total)\n",
    "    census_tracts[feature] = vals_list"
   ]
  },
  {
   "cell_type": "code",
   "execution_count": 25,
   "id": "e184404b",
   "metadata": {},
   "outputs": [],
   "source": [
    "train, test = train_test_split(census_tracts, random_state=320, test_size=0.25)"
   ]
  },
  {
   "cell_type": "code",
   "execution_count": 26,
   "id": "40d19929",
   "metadata": {},
   "outputs": [],
   "source": [
    "model16 = LinearRegression()\n",
    "\n",
    "m17 = Pipeline([\n",
    "    (\"poly\", PolynomialFeatures(degree=2, include_bias=False)),\n",
    "    (\"lr\", LinearRegression())\n",
    "])"
   ]
  },
  {
   "cell_type": "code",
   "execution_count": 27,
   "id": "f816b6d0",
   "metadata": {},
   "outputs": [
    {
     "data": {
      "image/png": "[encoded data removed]",
      "text/plain": [
       "<Figure size 432x288 with 1 Axes>"
      ]
     },
     "metadata": {
      "needs_background": "light"
     },
     "output_type": "display_data"
    }
   ],
   "source": [
    "#Q16: How do the models you selected compare under cross validation?\n",
    "m16_scores = cross_val_score(model16, train[['developed_med']], train[\"POP100\"])\n",
    "m16_mean = m16_scores.mean()\n",
    "m16_std = m16_scores.std()\n",
    "\n",
    "m17_scores = cross_val_score(m17, train[['developed_med']], train[\"POP100\"])\n",
    "m17_mean = m17_scores.mean()\n",
    "m17_std = m17_scores.std()\n",
    "\n",
    "avg = pd.Series({\"untransformed model\": m16_mean, \"poly model\": m17_mean})\n",
    "std = pd.Series({\"untransformed model\": m16_std, \"poly model\": m17_std})\n",
    "ax = avg.plot.bar(yerr=std)\n",
    "ax.set_ylabel(\"R^2 Score\")\n",
    "None"
   ]
  },
  {
   "cell_type": "code",
   "execution_count": 28,
   "id": "385c8615",
   "metadata": {},
   "outputs": [
    {
     "data": {
      "text/plain": [
       "0.40029704465563754"
      ]
     },
     "execution_count": 28,
     "metadata": {},
     "output_type": "execute_result"
    }
   ],
   "source": [
    "#Q17: How does your recommended model score against the test dataset?\n",
    "#I recommend model 17 (pipeline model), which has a higher explained variance and a similar standard deviation using the same feature. \n",
    "m17.fit(train[['developed_med']], train[\"POP100\"])\n",
    "m17.score(test[['developed_med']], test[\"POP100\"])"
   ]
  },
  {
   "cell_type": "code",
   "execution_count": null,
   "id": "db9dfe31",
   "metadata": {},
   "outputs": [],
   "source": []
  },
  {
   "cell_type": "code",
   "execution_count": null,
   "id": "40de5edb",
   "metadata": {},
   "outputs": [],
   "source": []
  },
  {
   "cell_type": "code",
   "execution_count": null,
   "id": "24af7f66",
   "metadata": {},
   "outputs": [],
   "source": []
  },
  {
   "cell_type": "code",
   "execution_count": null,
   "id": "ec99d432",
   "metadata": {},
   "outputs": [],
   "source": []
  }
 ],
 "metadata": {
  "kernelspec": {
   "display_name": "Python 3 (ipykernel)",
   "language": "python",
   "name": "python3"
  },
  "language_info": {
   "codemirror_mode": {
    "name": "ipython",
    "version": 3
   },
   "file_extension": ".py",
   "mimetype": "text/x-python",
   "name": "python",
   "nbconvert_exporter": "python",
   "pygments_lexer": "ipython3",
   "version": "3.8.10"
  }
 },
 "nbformat": 4,
 "nbformat_minor": 5
}
